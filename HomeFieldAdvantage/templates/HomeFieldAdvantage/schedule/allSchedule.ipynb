{
 "cells": [
  {
   "cell_type": "code",
   "execution_count": 1,
   "metadata": {
    "id": "s4ipUpr4M4DJ"
   },
   "outputs": [],
   "source": [
    "from urllib.request import urlopen\n",
    "from bs4 import BeautifulSoup\n",
    "import pandas as pd\n",
    "import numpy as np\n",
    "\n",
    "def getSchedule():\n",
    "        #scraping the data from this website then extract the game schedule\n",
    "        url = \"https://www.pro-football-reference.com/years/2021/games.htm\" \n",
    "        html = urlopen(url)\n",
    "        soup = BeautifulSoup(html)\n",
    "\n",
    "        rows = soup.findAll('tr', class_ = lambda table_rows: table_rows != \"thead\") #grab all the rows in the table\n",
    "        schedule_head = [[td.getText() for td in rows[i].findAll('th')]             # grab the feature names and week number from the table\n",
    "                        for i in range(len(rows))]                                  #for each row\n",
    "        schedule_detail = [[td.getText() for td in rows[i].findAll('td')]           # get the schedule details from the table\n",
    "                        for i in range(len(rows))] \n",
    "        col_names = schedule_head[0]                                                #feature names\n",
    "        headDf = pd.DataFrame(schedule_head[1:],columns=[col_names[0]])             #weeks\n",
    "        detailDf = pd.DataFrame(schedule_detail,columns=[col_names[1:]])            #games\n",
    "        detailDf1 = detailDf.dropna(axis=0)        #droped the row with all none values\n",
    "        headDf = headDf.set_index(detailDf1.index) #make the two data frame to have same index, so easier to combine them\n",
    "\n",
    "        schd = pd.concat([headDf,detailDf1], axis=1, ignore_index=True)\n",
    "        schd.columns = col_names\n",
    "\n",
    "        schd.to_csv('allSchedule.cvs')\n",
    "        print(\"Created the cvs file for all game schedule.\")\n",
    "        "
   ]
  },
  {
   "cell_type": "code",
   "execution_count": 2,
   "metadata": {
    "colab": {
     "base_uri": "https://localhost:8080/"
    },
    "id": "cMiU6P9jEdM1",
    "outputId": "27ce9e7c-56aa-4d35-997e-09afeaac80f4"
   },
   "outputs": [
    {
     "name": "stdout",
     "output_type": "stream",
     "text": [
      "Created the cvs file for all game schedule.\n"
     ]
    }
   ],
   "source": [
    "getSchedule()"
   ]
  },
  {
   "cell_type": "code",
   "execution_count": null,
   "metadata": {
    "id": "am6ZTjvREwNY"
   },
   "outputs": [],
   "source": []
  }
 ],
 "metadata": {
  "colab": {
   "name": "Untitled0.ipynb",
   "provenance": []
  },
  "kernelspec": {
   "display_name": "Python 3",
   "language": "python",
   "name": "python3"
  },
  "language_info": {
   "codemirror_mode": {
    "name": "ipython",
    "version": 3
   },
   "file_extension": ".py",
   "mimetype": "text/x-python",
   "name": "python",
   "nbconvert_exporter": "python",
   "pygments_lexer": "ipython3",
   "version": "3.8.8"
  }
 },
 "nbformat": 4,
 "nbformat_minor": 4
}
