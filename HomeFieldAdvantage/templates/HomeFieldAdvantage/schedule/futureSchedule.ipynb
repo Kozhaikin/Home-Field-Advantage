{
 "cells": [
  {
   "cell_type": "code",
   "execution_count": 1,
   "source": [
    "import pandas as pd\n",
    "import numpy as np\n",
    "from datetime import date\n",
    "\n",
    "# get the schedule for all games\n",
    "df = pd.read_csv(\"allSchedule.cvs\",index_col=0) \n",
    "# df"
   ],
   "outputs": [],
   "metadata": {}
  },
  {
   "cell_type": "code",
   "execution_count": 2,
   "source": [
    "# get the schedule for upcoming games and extract desired features, add 2 new features(win prob.) to it\n",
    "now = date.today()\n",
    "today = now.strftime(\"%Y-%m-%d\") #convert current date to string\n",
    "feature = ['Week','Day','Date','Time','Winner/tie','Unnamed: 6','Loser/tie']\n",
    "gameDF = df.loc[df['Date']>= today,feature] #get future game schedule\n",
    "gameDF=gameDF.rename(columns = {'Winner/tie':'Team1','Unnamed: 6':' ','Loser/tie':'Team2'})\n",
    "gameDF[\"Team1 Win Prob.\"] =''\n",
    "gameDF[\"Team2 Win Prob.\"] =''\n",
    "gameDF.index.name = gameDF.columns[0]\n",
    "newGameDF = gameDF.set_index(gameDF[gameDF.columns[0]])\n",
    "newGameDF = newGameDF.drop(\"Week\",axis=1)\n",
    "# newGameDF\n"
   ],
   "outputs": [],
   "metadata": {}
  },
  {
   "cell_type": "code",
   "execution_count": 3,
   "source": [
    "# newGameDF.to_html('gms.html') #regular table\n",
    "newGameDF.to_csv('futureSchedule.cvs')"
   ],
   "outputs": [],
   "metadata": {}
  },
  {
   "cell_type": "code",
   "execution_count": 7,
   "source": [
    "# pip install -U prettytable"
   ],
   "outputs": [],
   "metadata": {}
  },
  {
   "cell_type": "code",
   "execution_count": 4,
   "source": [
    "from prettytable import PrettyTable\n",
    "\n",
    "#use PrettyTable to convert the data frame into a html file\n",
    "#looks better than the regular table\n",
    "file = open(\"futureSchedule.cvs\", 'r') \n",
    "file = file.readlines() \n",
    "head = file[0] \n",
    "head = head.rstrip('\\n').split(',')\n",
    "head\n",
    "#for headings\n",
    "table = PrettyTable([head[i] for i in range(len(head))]) \n",
    "for i in range(1, len(file)) : \n",
    "    table.add_row(file[i].split(','))\n",
    "htmlCode = table.get_html_string() \n",
    "final_htmlFile = open('gameSchedue.html', 'w') \n",
    "final_htmlFile=final_htmlFile.write(htmlCode)\n"
   ],
   "outputs": [],
   "metadata": {}
  },
  {
   "cell_type": "code",
   "execution_count": null,
   "source": [],
   "outputs": [],
   "metadata": {}
  }
 ],
 "metadata": {
  "kernelspec": {
   "name": "python3",
   "display_name": "Python 3.10.0 64-bit ('.venv': venv)"
  },
  "language_info": {
   "codemirror_mode": {
    "name": "ipython",
    "version": 3
   },
   "file_extension": ".py",
   "mimetype": "text/x-python",
   "name": "python",
   "nbconvert_exporter": "python",
   "pygments_lexer": "ipython3",
   "version": "3.10.0"
  },
  "interpreter": {
   "hash": "828f88ffed7f7572d88035c4e39ad657dc19264ba908ba325392deeb347b879e"
  }
 },
 "nbformat": 4,
 "nbformat_minor": 5
}